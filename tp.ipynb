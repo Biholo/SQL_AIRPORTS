{
 "cells": [
  {
   "cell_type": "code",
   "execution_count": 12,
   "metadata": {},
   "outputs": [],
   "source": [
    "import pandas as pd\n",
    "from matplotlib import pyplot as plt\n",
    "import seaborn as sns\n",
    "import json\n",
    "import tabula\n"
   ]
  },
  {
   "cell_type": "code",
   "execution_count": 21,
   "metadata": {},
   "outputs": [],
   "source": [
    "def load_data(file_type, file_path):\n",
    "    if file_type == 'json':\n",
    "        return pd.read_json(file_path)\n",
    "    elif file_type == 'xlsx':\n",
    "        return pd.read_excel(file_path)\n",
    "    elif file_type == 'html':\n",
    "        return pd.read_html(file_path)[0]\n",
    "    elif file_type == 'pdf':\n",
    "        return tabula.read_pdf(file_path, stream= True, pages='all')[0]\n",
    "    else:\n",
    "        raise ValueError(\"Unsupported file type. Supported types: 'json', 'xlsx', 'html', 'pdf'\")\n"
   ]
  },
  {
   "cell_type": "code",
   "execution_count": 25,
   "metadata": {},
   "outputs": [
    {
     "name": "stderr",
     "output_type": "stream",
     "text": [
      "C:\\Users\\carlb\\AppData\\Local\\Temp\\ipykernel_6416\\1323074342.py:12: FutureWarning: errors='ignore' is deprecated and will raise in a future version. Use to_numeric without passing `errors` and catch exceptions explicitly instead\n",
      "  flights_split = flights_split.apply(pd.to_numeric, errors='ignore')\n"
     ]
    },
    {
     "name": "stdout",
     "output_type": "stream",
     "text": [
      "year               int64\n",
      "month              int64\n",
      "day                int64\n",
      "dep_time          object\n",
      "sched_dep_time     int64\n",
      "dep_delay         object\n",
      "arr_time          object\n",
      "sched_arr_time     int64\n",
      "arr_delay         object\n",
      "carrier           object\n",
      "flight             int64\n",
      "tailnum           object\n",
      "origin            object\n",
      "dest              object\n",
      "air_time          object\n",
      "distance           int64\n",
      "hour               int64\n",
      "minute             int64\n",
      "time_hour         object\n",
      "dtype: object\n"
     ]
    }
   ],
   "source": [
    "airlines = load_data('json', 'data/airlines.json')\n",
    "flights = load_data('xlsx', 'data/flights.xlsx')\n",
    "airports = load_data('xlsx', 'data/airports.xlsx')\n",
    "planes = load_data('html', 'data/planes.html')\n",
    "#weather = load_data('pdf', 'data/weather.pdf')\n",
    "\n",
    "#Format flight data\n",
    "flights_split = flights.iloc[:, 0].str.split(',', expand=True)\n",
    "\n",
    "flights_split.columns = ['year', 'month', 'day', 'dep_time', 'sched_dep_time', 'dep_delay', 'arr_time', 'sched_arr_time', 'arr_delay', 'carrier', 'flight', 'tailnum', 'origin', 'dest', 'air_time', 'distance', 'hour', 'minute', 'time_hour']\n",
    "\n",
    "flights_split = flights_split.apply(pd.to_numeric, errors='ignore')\n",
    "\n",
    "\n",
    "# Update the flights variable\n",
    "flights = flights_split\n",
    "\n",
    "print(flights.dtypes)\n"
   ]
  },
  {
   "cell_type": "code",
   "execution_count": 26,
   "metadata": {},
   "outputs": [
    {
     "name": "stdout",
     "output_type": "stream",
     "text": [
      "\n",
      "\n",
      "FLIGHTS:\n",
      " year               int64\n",
      "month              int64\n",
      "day                int64\n",
      "dep_time          object\n",
      "sched_dep_time     int64\n",
      "dep_delay         object\n",
      "arr_time          object\n",
      "sched_arr_time     int64\n",
      "arr_delay         object\n",
      "carrier           object\n",
      "flight             int64\n",
      "tailnum           object\n",
      "origin            object\n",
      "dest              object\n",
      "air_time          object\n",
      "distance           int64\n",
      "hour               int64\n",
      "minute             int64\n",
      "time_hour         object\n",
      "dtype: object\n"
     ]
    }
   ],
   "source": [
    "#Show types of data\n",
    "# print('AIRLINES:\\n', airlines.dtypes)\n",
    "print('\\n\\nFLIGHTS:\\n', flights.dtypes)\n",
    "# print('\\n\\nPLANES:\\n', planes.dtypes)\n",
    "# print('\\n\\nAIRPORTS:\\n', airports.dtypes)\n"
   ]
  },
  {
   "cell_type": "code",
   "execution_count": 24,
   "metadata": {},
   "outputs": [
    {
     "name": "stdout",
     "output_type": "stream",
     "text": [
      "Total number of airports: 1458\n",
      "Number of airports without DST: 23\n",
      "Number of time zones: 10\n",
      "Total number of airlines: 16\n",
      "Total number of planes: 3322\n"
     ]
    }
   ],
   "source": [
    "#q1\n",
    "total_airports = airports['faa'].nunique()\n",
    "airports_no_dst = airports[airports['dst'] == 'N'].shape[0]\n",
    "time_zones = airports['tzone'].nunique()\n",
    "total_airlines = airlines['carrier'].nunique()\n",
    "total_planes = planes['tailnum'].nunique()\n",
    "\n",
    "print(f\"Total number of airports: {total_airports}\")\n",
    "print(f\"Number of airports without DST: {airports_no_dst}\")\n",
    "print(f\"Number of time zones: {time_zones}\")\n",
    "print(f\"Total number of airlines: {total_airlines}\")\n",
    "print(f\"Total number of planes: {total_planes}\")\n"
   ]
  },
  {
   "cell_type": "code",
   "execution_count": 32,
   "metadata": {},
   "outputs": [
    {
     "name": "stdout",
     "output_type": "stream",
     "text": [
      "L'aéroport de départ le plus emprunté est : Newark Liberty Intl\n"
     ]
    },
    {
     "ename": "KeyError",
     "evalue": "'index'",
     "output_type": "error",
     "traceback": [
      "\u001b[1;31m---------------------------------------------------------------------------\u001b[0m",
      "\u001b[1;31mKeyError\u001b[0m                                  Traceback (most recent call last)",
      "\u001b[1;32m~\\AppData\\Local\\Temp\\ipykernel_30316\\432726116.py\u001b[0m in \u001b[0;36m?\u001b[1;34m()\u001b[0m\n\u001b[0;32m      8\u001b[0m \u001b[0mtop_10_destinations\u001b[0m \u001b[1;33m=\u001b[0m \u001b[0mdestination_counts\u001b[0m\u001b[1;33m.\u001b[0m\u001b[0mhead\u001b[0m\u001b[1;33m(\u001b[0m\u001b[1;36m10\u001b[0m\u001b[1;33m)\u001b[0m\u001b[1;33m\u001b[0m\u001b[1;33m\u001b[0m\u001b[0m\n\u001b[0;32m      9\u001b[0m \u001b[0mbottom_10_destinations\u001b[0m \u001b[1;33m=\u001b[0m \u001b[0mdestination_counts\u001b[0m\u001b[1;33m.\u001b[0m\u001b[0mtail\u001b[0m\u001b[1;33m(\u001b[0m\u001b[1;36m10\u001b[0m\u001b[1;33m)\u001b[0m\u001b[1;33m\u001b[0m\u001b[1;33m\u001b[0m\u001b[0m\n\u001b[0;32m     10\u001b[0m \u001b[1;33m\u001b[0m\u001b[0m\n\u001b[0;32m     11\u001b[0m \u001b[1;31m# Ajouter les noms complets des destinations\u001b[0m\u001b[1;33m\u001b[0m\u001b[1;33m\u001b[0m\u001b[0m\n\u001b[1;32m---> 12\u001b[1;33m \u001b[0mtop_10_destinations\u001b[0m \u001b[1;33m=\u001b[0m \u001b[0mtop_10_destinations\u001b[0m\u001b[1;33m.\u001b[0m\u001b[0mreset_index\u001b[0m\u001b[1;33m(\u001b[0m\u001b[1;33m)\u001b[0m\u001b[1;33m.\u001b[0m\u001b[0mmerge\u001b[0m\u001b[1;33m(\u001b[0m\u001b[0mairports\u001b[0m\u001b[1;33m[\u001b[0m\u001b[1;33m[\u001b[0m\u001b[1;34m'faa'\u001b[0m\u001b[1;33m,\u001b[0m \u001b[1;34m'name'\u001b[0m\u001b[1;33m]\u001b[0m\u001b[1;33m]\u001b[0m\u001b[1;33m,\u001b[0m \u001b[0mleft_on\u001b[0m\u001b[1;33m=\u001b[0m\u001b[1;34m'index'\u001b[0m\u001b[1;33m,\u001b[0m \u001b[0mright_on\u001b[0m\u001b[1;33m=\u001b[0m\u001b[1;34m'faa'\u001b[0m\u001b[1;33m)\u001b[0m\u001b[1;33m\u001b[0m\u001b[1;33m\u001b[0m\u001b[0m\n\u001b[0m\u001b[0;32m     13\u001b[0m \u001b[0mbottom_10_destinations\u001b[0m \u001b[1;33m=\u001b[0m \u001b[0mbottom_10_destinations\u001b[0m\u001b[1;33m.\u001b[0m\u001b[0mreset_index\u001b[0m\u001b[1;33m(\u001b[0m\u001b[1;33m)\u001b[0m\u001b[1;33m.\u001b[0m\u001b[0mmerge\u001b[0m\u001b[1;33m(\u001b[0m\u001b[0mairports\u001b[0m\u001b[1;33m[\u001b[0m\u001b[1;33m[\u001b[0m\u001b[1;34m'faa'\u001b[0m\u001b[1;33m,\u001b[0m \u001b[1;34m'name'\u001b[0m\u001b[1;33m]\u001b[0m\u001b[1;33m]\u001b[0m\u001b[1;33m,\u001b[0m \u001b[0mleft_on\u001b[0m\u001b[1;33m=\u001b[0m\u001b[1;34m'index'\u001b[0m\u001b[1;33m,\u001b[0m \u001b[0mright_on\u001b[0m\u001b[1;33m=\u001b[0m\u001b[1;34m'faa'\u001b[0m\u001b[1;33m)\u001b[0m\u001b[1;33m\u001b[0m\u001b[1;33m\u001b[0m\u001b[0m\n\u001b[0;32m     14\u001b[0m \u001b[1;33m\u001b[0m\u001b[0m\n\u001b[0;32m     15\u001b[0m \u001b[1;31m# Calculer les pourcentages\u001b[0m\u001b[1;33m\u001b[0m\u001b[1;33m\u001b[0m\u001b[0m\n",
      "\u001b[1;32mc:\\Users\\kilia\\anaconda3\\Lib\\site-packages\\pandas\\core\\frame.py\u001b[0m in \u001b[0;36m?\u001b[1;34m(self, right, how, on, left_on, right_on, left_index, right_index, sort, suffixes, copy, indicator, validate)\u001b[0m\n\u001b[0;32m  10828\u001b[0m         \u001b[0mvalidate\u001b[0m\u001b[1;33m:\u001b[0m \u001b[0mMergeValidate\u001b[0m \u001b[1;33m|\u001b[0m \u001b[1;32mNone\u001b[0m \u001b[1;33m=\u001b[0m \u001b[1;32mNone\u001b[0m\u001b[1;33m,\u001b[0m\u001b[1;33m\u001b[0m\u001b[1;33m\u001b[0m\u001b[0m\n\u001b[0;32m  10829\u001b[0m     \u001b[1;33m)\u001b[0m \u001b[1;33m->\u001b[0m \u001b[0mDataFrame\u001b[0m\u001b[1;33m:\u001b[0m\u001b[1;33m\u001b[0m\u001b[1;33m\u001b[0m\u001b[0m\n\u001b[0;32m  10830\u001b[0m         \u001b[1;32mfrom\u001b[0m \u001b[0mpandas\u001b[0m\u001b[1;33m.\u001b[0m\u001b[0mcore\u001b[0m\u001b[1;33m.\u001b[0m\u001b[0mreshape\u001b[0m\u001b[1;33m.\u001b[0m\u001b[0mmerge\u001b[0m \u001b[1;32mimport\u001b[0m \u001b[0mmerge\u001b[0m\u001b[1;33m\u001b[0m\u001b[1;33m\u001b[0m\u001b[0m\n\u001b[0;32m  10831\u001b[0m \u001b[1;33m\u001b[0m\u001b[0m\n\u001b[1;32m> 10832\u001b[1;33m         return merge(\n\u001b[0m\u001b[0;32m  10833\u001b[0m             \u001b[0mself\u001b[0m\u001b[1;33m,\u001b[0m\u001b[1;33m\u001b[0m\u001b[1;33m\u001b[0m\u001b[0m\n\u001b[0;32m  10834\u001b[0m             \u001b[0mright\u001b[0m\u001b[1;33m,\u001b[0m\u001b[1;33m\u001b[0m\u001b[1;33m\u001b[0m\u001b[0m\n\u001b[0;32m  10835\u001b[0m             \u001b[0mhow\u001b[0m\u001b[1;33m=\u001b[0m\u001b[0mhow\u001b[0m\u001b[1;33m,\u001b[0m\u001b[1;33m\u001b[0m\u001b[1;33m\u001b[0m\u001b[0m\n",
      "\u001b[1;32mc:\\Users\\kilia\\anaconda3\\Lib\\site-packages\\pandas\\core\\reshape\\merge.py\u001b[0m in \u001b[0;36m?\u001b[1;34m(left, right, how, on, left_on, right_on, left_index, right_index, sort, suffixes, copy, indicator, validate)\u001b[0m\n\u001b[0;32m    166\u001b[0m             \u001b[0mvalidate\u001b[0m\u001b[1;33m=\u001b[0m\u001b[0mvalidate\u001b[0m\u001b[1;33m,\u001b[0m\u001b[1;33m\u001b[0m\u001b[1;33m\u001b[0m\u001b[0m\n\u001b[0;32m    167\u001b[0m             \u001b[0mcopy\u001b[0m\u001b[1;33m=\u001b[0m\u001b[0mcopy\u001b[0m\u001b[1;33m,\u001b[0m\u001b[1;33m\u001b[0m\u001b[1;33m\u001b[0m\u001b[0m\n\u001b[0;32m    168\u001b[0m         \u001b[1;33m)\u001b[0m\u001b[1;33m\u001b[0m\u001b[1;33m\u001b[0m\u001b[0m\n\u001b[0;32m    169\u001b[0m     \u001b[1;32melse\u001b[0m\u001b[1;33m:\u001b[0m\u001b[1;33m\u001b[0m\u001b[1;33m\u001b[0m\u001b[0m\n\u001b[1;32m--> 170\u001b[1;33m         op = _MergeOperation(\n\u001b[0m\u001b[0;32m    171\u001b[0m             \u001b[0mleft_df\u001b[0m\u001b[1;33m,\u001b[0m\u001b[1;33m\u001b[0m\u001b[1;33m\u001b[0m\u001b[0m\n\u001b[0;32m    172\u001b[0m             \u001b[0mright_df\u001b[0m\u001b[1;33m,\u001b[0m\u001b[1;33m\u001b[0m\u001b[1;33m\u001b[0m\u001b[0m\n\u001b[0;32m    173\u001b[0m             \u001b[0mhow\u001b[0m\u001b[1;33m=\u001b[0m\u001b[0mhow\u001b[0m\u001b[1;33m,\u001b[0m\u001b[1;33m\u001b[0m\u001b[1;33m\u001b[0m\u001b[0m\n",
      "\u001b[1;32mc:\\Users\\kilia\\anaconda3\\Lib\\site-packages\\pandas\\core\\reshape\\merge.py\u001b[0m in \u001b[0;36m?\u001b[1;34m(self, left, right, how, on, left_on, right_on, left_index, right_index, sort, suffixes, indicator, validate)\u001b[0m\n\u001b[0;32m    790\u001b[0m             \u001b[0mself\u001b[0m\u001b[1;33m.\u001b[0m\u001b[0mright_join_keys\u001b[0m\u001b[1;33m,\u001b[0m\u001b[1;33m\u001b[0m\u001b[1;33m\u001b[0m\u001b[0m\n\u001b[0;32m    791\u001b[0m             \u001b[0mself\u001b[0m\u001b[1;33m.\u001b[0m\u001b[0mjoin_names\u001b[0m\u001b[1;33m,\u001b[0m\u001b[1;33m\u001b[0m\u001b[1;33m\u001b[0m\u001b[0m\n\u001b[0;32m    792\u001b[0m             \u001b[0mleft_drop\u001b[0m\u001b[1;33m,\u001b[0m\u001b[1;33m\u001b[0m\u001b[1;33m\u001b[0m\u001b[0m\n\u001b[0;32m    793\u001b[0m             \u001b[0mright_drop\u001b[0m\u001b[1;33m,\u001b[0m\u001b[1;33m\u001b[0m\u001b[1;33m\u001b[0m\u001b[0m\n\u001b[1;32m--> 794\u001b[1;33m         \u001b[1;33m)\u001b[0m \u001b[1;33m=\u001b[0m \u001b[0mself\u001b[0m\u001b[1;33m.\u001b[0m\u001b[0m_get_merge_keys\u001b[0m\u001b[1;33m(\u001b[0m\u001b[1;33m)\u001b[0m\u001b[1;33m\u001b[0m\u001b[1;33m\u001b[0m\u001b[0m\n\u001b[0m\u001b[0;32m    795\u001b[0m \u001b[1;33m\u001b[0m\u001b[0m\n\u001b[0;32m    796\u001b[0m         \u001b[1;32mif\u001b[0m \u001b[0mleft_drop\u001b[0m\u001b[1;33m:\u001b[0m\u001b[1;33m\u001b[0m\u001b[1;33m\u001b[0m\u001b[0m\n\u001b[0;32m    797\u001b[0m             \u001b[0mself\u001b[0m\u001b[1;33m.\u001b[0m\u001b[0mleft\u001b[0m \u001b[1;33m=\u001b[0m \u001b[0mself\u001b[0m\u001b[1;33m.\u001b[0m\u001b[0mleft\u001b[0m\u001b[1;33m.\u001b[0m\u001b[0m_drop_labels_or_levels\u001b[0m\u001b[1;33m(\u001b[0m\u001b[0mleft_drop\u001b[0m\u001b[1;33m)\u001b[0m\u001b[1;33m\u001b[0m\u001b[1;33m\u001b[0m\u001b[0m\n",
      "\u001b[1;32mc:\\Users\\kilia\\anaconda3\\Lib\\site-packages\\pandas\\core\\reshape\\merge.py\u001b[0m in \u001b[0;36m?\u001b[1;34m(self)\u001b[0m\n\u001b[0;32m   1306\u001b[0m                     \u001b[1;32mif\u001b[0m \u001b[0mlk\u001b[0m \u001b[1;32mis\u001b[0m \u001b[1;32mnot\u001b[0m \u001b[1;32mNone\u001b[0m\u001b[1;33m:\u001b[0m\u001b[1;33m\u001b[0m\u001b[1;33m\u001b[0m\u001b[0m\n\u001b[0;32m   1307\u001b[0m                         \u001b[1;31m# Then we're either Hashable or a wrong-length arraylike,\u001b[0m\u001b[1;33m\u001b[0m\u001b[1;33m\u001b[0m\u001b[0m\n\u001b[0;32m   1308\u001b[0m                         \u001b[1;31m#  the latter of which will raise\u001b[0m\u001b[1;33m\u001b[0m\u001b[1;33m\u001b[0m\u001b[0m\n\u001b[0;32m   1309\u001b[0m                         \u001b[0mlk\u001b[0m \u001b[1;33m=\u001b[0m \u001b[0mcast\u001b[0m\u001b[1;33m(\u001b[0m\u001b[0mHashable\u001b[0m\u001b[1;33m,\u001b[0m \u001b[0mlk\u001b[0m\u001b[1;33m)\u001b[0m\u001b[1;33m\u001b[0m\u001b[1;33m\u001b[0m\u001b[0m\n\u001b[1;32m-> 1310\u001b[1;33m                         \u001b[0mleft_keys\u001b[0m\u001b[1;33m.\u001b[0m\u001b[0mappend\u001b[0m\u001b[1;33m(\u001b[0m\u001b[0mleft\u001b[0m\u001b[1;33m.\u001b[0m\u001b[0m_get_label_or_level_values\u001b[0m\u001b[1;33m(\u001b[0m\u001b[0mlk\u001b[0m\u001b[1;33m)\u001b[0m\u001b[1;33m)\u001b[0m\u001b[1;33m\u001b[0m\u001b[1;33m\u001b[0m\u001b[0m\n\u001b[0m\u001b[0;32m   1311\u001b[0m                         \u001b[0mjoin_names\u001b[0m\u001b[1;33m.\u001b[0m\u001b[0mappend\u001b[0m\u001b[1;33m(\u001b[0m\u001b[0mlk\u001b[0m\u001b[1;33m)\u001b[0m\u001b[1;33m\u001b[0m\u001b[1;33m\u001b[0m\u001b[0m\n\u001b[0;32m   1312\u001b[0m                     \u001b[1;32melse\u001b[0m\u001b[1;33m:\u001b[0m\u001b[1;33m\u001b[0m\u001b[1;33m\u001b[0m\u001b[0m\n\u001b[0;32m   1313\u001b[0m                         \u001b[1;31m# work-around for merge_asof(left_index=True)\u001b[0m\u001b[1;33m\u001b[0m\u001b[1;33m\u001b[0m\u001b[0m\n",
      "\u001b[1;32mc:\\Users\\kilia\\anaconda3\\Lib\\site-packages\\pandas\\core\\generic.py\u001b[0m in \u001b[0;36m?\u001b[1;34m(self, key, axis)\u001b[0m\n\u001b[0;32m   1907\u001b[0m             \u001b[0mvalues\u001b[0m \u001b[1;33m=\u001b[0m \u001b[0mself\u001b[0m\u001b[1;33m.\u001b[0m\u001b[0mxs\u001b[0m\u001b[1;33m(\u001b[0m\u001b[0mkey\u001b[0m\u001b[1;33m,\u001b[0m \u001b[0maxis\u001b[0m\u001b[1;33m=\u001b[0m\u001b[0mother_axes\u001b[0m\u001b[1;33m[\u001b[0m\u001b[1;36m0\u001b[0m\u001b[1;33m]\u001b[0m\u001b[1;33m)\u001b[0m\u001b[1;33m.\u001b[0m\u001b[0m_values\u001b[0m\u001b[1;33m\u001b[0m\u001b[1;33m\u001b[0m\u001b[0m\n\u001b[0;32m   1908\u001b[0m         \u001b[1;32melif\u001b[0m \u001b[0mself\u001b[0m\u001b[1;33m.\u001b[0m\u001b[0m_is_level_reference\u001b[0m\u001b[1;33m(\u001b[0m\u001b[0mkey\u001b[0m\u001b[1;33m,\u001b[0m \u001b[0maxis\u001b[0m\u001b[1;33m=\u001b[0m\u001b[0maxis\u001b[0m\u001b[1;33m)\u001b[0m\u001b[1;33m:\u001b[0m\u001b[1;33m\u001b[0m\u001b[1;33m\u001b[0m\u001b[0m\n\u001b[0;32m   1909\u001b[0m             \u001b[0mvalues\u001b[0m \u001b[1;33m=\u001b[0m \u001b[0mself\u001b[0m\u001b[1;33m.\u001b[0m\u001b[0maxes\u001b[0m\u001b[1;33m[\u001b[0m\u001b[0maxis\u001b[0m\u001b[1;33m]\u001b[0m\u001b[1;33m.\u001b[0m\u001b[0mget_level_values\u001b[0m\u001b[1;33m(\u001b[0m\u001b[0mkey\u001b[0m\u001b[1;33m)\u001b[0m\u001b[1;33m.\u001b[0m\u001b[0m_values\u001b[0m\u001b[1;33m\u001b[0m\u001b[1;33m\u001b[0m\u001b[0m\n\u001b[0;32m   1910\u001b[0m         \u001b[1;32melse\u001b[0m\u001b[1;33m:\u001b[0m\u001b[1;33m\u001b[0m\u001b[1;33m\u001b[0m\u001b[0m\n\u001b[1;32m-> 1911\u001b[1;33m             \u001b[1;32mraise\u001b[0m \u001b[0mKeyError\u001b[0m\u001b[1;33m(\u001b[0m\u001b[0mkey\u001b[0m\u001b[1;33m)\u001b[0m\u001b[1;33m\u001b[0m\u001b[1;33m\u001b[0m\u001b[0m\n\u001b[0m\u001b[0;32m   1912\u001b[0m \u001b[1;33m\u001b[0m\u001b[0m\n\u001b[0;32m   1913\u001b[0m         \u001b[1;31m# Check for duplicates\u001b[0m\u001b[1;33m\u001b[0m\u001b[1;33m\u001b[0m\u001b[0m\n\u001b[0;32m   1914\u001b[0m         \u001b[1;32mif\u001b[0m \u001b[0mvalues\u001b[0m\u001b[1;33m.\u001b[0m\u001b[0mndim\u001b[0m \u001b[1;33m>\u001b[0m \u001b[1;36m1\u001b[0m\u001b[1;33m:\u001b[0m\u001b[1;33m\u001b[0m\u001b[1;33m\u001b[0m\u001b[0m\n",
      "\u001b[1;31mKeyError\u001b[0m: 'index'"
     ]
    }
   ],
   "source": [
    "# 1. Trouver l'aéroport de départ le plus emprunté\n",
    "most_used_origin = flights['origin'].value_counts().idxmax()\n",
    "most_used_origin_name = airports[airports['faa'] == most_used_origin]['name'].values[0]\n",
    "print(f\"L'aéroport de départ le plus emprunté est : {most_used_origin_name}\")\n",
    "\n",
    "# 2. Trouver les 10 destinations les plus et les moins prisées\n",
    "destination_counts = flights['dest'].value_counts()\n",
    "top_10_destinations = destination_counts.head(10)\n",
    "bottom_10_destinations = destination_counts.tail(10)\n",
    "\n",
    "# Ajouter les noms complets des destinations\n",
    "top_10_destinations = top_10_destinations.reset_index().merge(airports[['faa', 'name']], left_on='index', right_on='faa')\n",
    "bottom_10_destinations = bottom_10_destinations.reset_index().merge(airports[['faa', 'name']], left_on='index', right_on='faa')\n",
    "\n",
    "# Calculer les pourcentages\n",
    "total_flights = flights.shape[0]\n",
    "top_10_destinations['percentage'] = (top_10_destinations['dest'] / total_flights) * 100\n",
    "bottom_10_destinations['percentage'] = (bottom_10_destinations['dest'] / total_flights) * 100\n",
    "\n",
    "print(\"Les 10 destinations les plus prisées :\")\n",
    "print(top_10_destinations[['name', 'percentage']])\n",
    "\n",
    "print(\"Les 10 destinations les moins prisées :\")\n",
    "print(bottom_10_destinations[['name', 'percentage']])\n",
    "\n",
    "# 3. Trouver les 10 avions qui ont le plus et le moins décollé\n",
    "plane_counts = flights['tailnum'].value_counts()\n",
    "top_10_planes = plane_counts.head(10)\n",
    "bottom_10_planes = plane_counts.tail(10)\n",
    "\n",
    "print(\"Les 10 avions qui ont le plus décollé :\")\n",
    "print(top_10_planes)\n",
    "\n",
    "print(\"Les 10 avions qui ont le moins décollé :\")\n",
    "print(bottom_10_planes)"
   ]
  },
  {
   "cell_type": "code",
   "execution_count": 28,
   "metadata": {},
   "outputs": [
    {
     "name": "stdout",
     "output_type": "stream",
     "text": [
      "        year  month  day dep_time  sched_dep_time dep_delay arr_time  \\\n",
      "0       2021      1    1      517             515         2      830   \n",
      "1       2021      1    1      533             529         4      850   \n",
      "2       2021      1    1      542             540         2      923   \n",
      "4       2021      1    1      554             600        -6      812   \n",
      "5       2021      1    1      554             558        -4      740   \n",
      "...      ...    ...  ...      ...             ...       ...      ...   \n",
      "252689  2021      7    3     1048            1055        -7     1330   \n",
      "252692  2021      7    3     1052            1100        -8     1328   \n",
      "252695  2021      7    3     1056            1055         1     1359   \n",
      "252696  2021      7    3     1057            1059        -2     1249   \n",
      "252698  2021      7    3     1059            1100        -1     1340   \n",
      "\n",
      "        sched_arr_time arr_delay carrier  flight tailnum origin dest air_time  \\\n",
      "0                  819        11      UA    1545  N14228    EWR  IAH      227   \n",
      "1                  830        20      UA    1714  N24211    LGA  IAH      227   \n",
      "2                  850        33      AA    1141  N619AA    JFK  MIA      160   \n",
      "4                  837       -25      DL     461  N668DN    LGA  ATL      116   \n",
      "5                  728        12      UA    1696  N39463    EWR  ORD      150   \n",
      "...                ...       ...     ...     ...     ...    ...  ...      ...   \n",
      "252689            1347       -17      DL    1275  N389DA    JFK  SLC      256   \n",
      "252692            1332        -4      UA    1695  N76522    EWR  IAH      189   \n",
      "252695            1411       -12      DL    1903  N364NB    LGA  SRQ      154   \n",
      "252696            1307       -18      UA     765  N469UA    EWR  DEN      202   \n",
      "252698            1349        -9      DL     695  N910DE    JFK  MCO      135   \n",
      "\n",
      "        distance  hour  minute             time_hour  \n",
      "0           1400     5      15  2021-01-01T05:00:00Z  \n",
      "1           1416     5      29  2021-01-01T05:00:00Z  \n",
      "2           1089     5      40  2021-01-01T05:00:00Z  \n",
      "4            762     6       0  2021-01-01T06:00:00Z  \n",
      "5            719     5      58  2021-01-01T05:00:00Z  \n",
      "...          ...   ...     ...                   ...  \n",
      "252689      1990    10      55  2021-07-03T10:00:00Z  \n",
      "252692      1400    11       0  2021-07-03T11:00:00Z  \n",
      "252695      1047    10      55  2021-07-03T10:00:00Z  \n",
      "252696      1605    10      59  2021-07-03T10:00:00Z  \n",
      "252698       944    11       0  2021-07-03T11:00:00Z  \n",
      "\n",
      "[104742 rows x 19 columns]\n"
     ]
    }
   ],
   "source": [
    "# Q8\n",
    "filtered_flights = flights[flights['carrier'].isin(['UA', 'AA', 'DL'])]\n",
    "\n",
    "print(filtered_flights)"
   ]
  },
  {
   "cell_type": "code",
   "execution_count": null,
   "metadata": {},
   "outputs": [],
   "source": []
  }
 ],
 "metadata": {
  "kernelspec": {
   "display_name": "base",
   "language": "python",
   "name": "python3"
  },
  "language_info": {
   "codemirror_mode": {
    "name": "ipython",
    "version": 3
   },
   "file_extension": ".py",
   "mimetype": "text/x-python",
   "name": "python",
   "nbconvert_exporter": "python",
   "pygments_lexer": "ipython3",
   "version": "3.12.4"
  }
 },
 "nbformat": 4,
 "nbformat_minor": 2
}
